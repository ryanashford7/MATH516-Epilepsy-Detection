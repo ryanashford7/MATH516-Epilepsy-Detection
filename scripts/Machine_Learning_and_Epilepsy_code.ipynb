Create scripts folder and add assignment script
